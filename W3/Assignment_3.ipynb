{
  "nbformat": 4,
  "nbformat_minor": 0,
  "metadata": {
    "colab": {
      "name": "Untitled0.ipynb",
      "provenance": [],
      "include_colab_link": true
    },
    "kernelspec": {
      "name": "python3",
      "display_name": "Python 3"
    }
  },
  "cells": [
    {
      "cell_type": "markdown",
      "metadata": {
        "id": "view-in-github",
        "colab_type": "text"
      },
      "source": [
        "<a href=\"https://colab.research.google.com/github/DrAlexSanz/NLP-SPEC-C4/blob/main/W3/Assignment_3.ipynb\" target=\"_parent\"><img src=\"https://colab.research.google.com/assets/colab-badge.svg\" alt=\"Open In Colab\"/></a>"
      ]
    },
    {
      "cell_type": "markdown",
      "metadata": {
        "id": "DwD_WV2S4MZE"
      },
      "source": [
        "# Assignment 3: Question Answering\r\n",
        "Welcome to this week's assignment of course 4. In this you will explore question answering. You will implement the \"Text to Text Transfer from Transformers\" (better known as T5). Since you implemented transformers from scratch last week you will now be able to use them.\r\n",
        "\r\n"
      ]
    },
    {
      "cell_type": "markdown",
      "metadata": {
        "id": "wEZrN51o4Ryz"
      },
      "source": [
        "## Overview\r\n",
        "This assignment will be different from the two previous ones. Due to memory and time constraints of this environment you will not be able to train a model and use it for inference. Instead you will create the necessary building blocks for the transformer encoder model and will use a pretrained version of the same model in two ungraded labs after this assignment.\r\n",
        "\r\n",
        "After completing these 3 (1 graded and 2 ungraded) labs you will:\r\n",
        "\r\n",
        "Implement the code neccesary for Bidirectional Encoder Representation from Transformer (BERT).\r\n",
        "Understand how the C4 dataset is structured.\r\n",
        "Use a pretrained model for inference.\r\n",
        "Understand how the \"Text to Text Transfer from Transformers\" or T5 model works."
      ]
    },
    {
      "cell_type": "markdown",
      "metadata": {
        "id": "hYKBE6LU5xpm"
      },
      "source": [
        "Overview\r\n",
        "This assignment will be different from the two previous ones. Due to memory and time constraints of this environment you will not be able to train a model and use it for inference. Instead you will create the necessary building blocks for the transformer encoder model and will use a pretrained version of the same model in two ungraded labs after this assignment.\r\n",
        "\r\n",
        "After completing these 3 (1 graded and 2 ungraded) labs you will:\r\n",
        "\r\n",
        "* Implement the code neccesary for Bidirectional Encoder Representation from Transformer (BERT).\r\n",
        "* Understand how the C4 dataset is structured.\r\n",
        "* Use a pretrained model for inference.\r\n",
        "* Understand how the \"Text to Text Transfer from Transformers\" or T5 model works."
      ]
    },
    {
      "cell_type": "code",
      "metadata": {
        "id": "_wZdg13V52Lg",
        "colab": {
          "base_uri": "https://localhost:8080/"
        },
        "outputId": "c8fea0af-be11-4a97-8f96-178eeaa75aca"
      },
      "source": [
        "import ast\r\n",
        "import string\r\n",
        "import textwrap\r\n",
        "import itertools\r\n",
        "import numpy as np\r\n",
        "\r\n",
        "!pip install trax\r\n",
        "\r\n",
        "import trax \r\n",
        "from trax import layers as tl\r\n",
        "from trax.supervised import decoding\r\n",
        "\r\n",
        "# Will come handy later.\r\n",
        "wrapper = textwrap.TextWrapper(width=70)\r\n",
        "\r\n",
        "# Set random seed\r\n",
        "np.random.seed(42)"
      ],
      "execution_count": 1,
      "outputs": [
        {
          "output_type": "stream",
          "text": [
            "Collecting trax\n",
            "\u001b[?25l  Downloading https://files.pythonhosted.org/packages/42/51/305b839f51d53abb393777f743e497d27bb341478f3fdec4d6ddaccc9fb5/trax-1.3.7-py2.py3-none-any.whl (521kB)\n",
            "\u001b[K     |████████████████████████████████| 522kB 5.8MB/s \n",
            "\u001b[?25hRequirement already satisfied: jaxlib in /usr/local/lib/python3.7/dist-packages (from trax) (0.1.60+cuda101)\n",
            "Collecting funcsigs\n",
            "  Downloading https://files.pythonhosted.org/packages/69/cb/f5be453359271714c01b9bd06126eaf2e368f1fddfff30818754b5ac2328/funcsigs-1.0.2-py2.py3-none-any.whl\n",
            "Requirement already satisfied: gin-config in /usr/local/lib/python3.7/dist-packages (from trax) (0.4.0)\n",
            "Requirement already satisfied: numpy in /usr/local/lib/python3.7/dist-packages (from trax) (1.19.5)\n",
            "Requirement already satisfied: psutil in /usr/local/lib/python3.7/dist-packages (from trax) (5.4.8)\n",
            "Requirement already satisfied: scipy in /usr/local/lib/python3.7/dist-packages (from trax) (1.4.1)\n",
            "Requirement already satisfied: six in /usr/local/lib/python3.7/dist-packages (from trax) (1.15.0)\n",
            "Collecting t5\n",
            "\u001b[?25l  Downloading https://files.pythonhosted.org/packages/a0/c6/2ea21c983ae27553a798829a533349de5df99678cfd3fd8d313ae30b063f/t5-0.8.1-py3-none-any.whl (214kB)\n",
            "\u001b[K     |████████████████████████████████| 215kB 44.1MB/s \n",
            "\u001b[?25hRequirement already satisfied: tensorflow-datasets in /usr/local/lib/python3.7/dist-packages (from trax) (4.0.1)\n",
            "Requirement already satisfied: gym in /usr/local/lib/python3.7/dist-packages (from trax) (0.17.3)\n",
            "Requirement already satisfied: jax in /usr/local/lib/python3.7/dist-packages (from trax) (0.2.9)\n",
            "Requirement already satisfied: absl-py in /usr/local/lib/python3.7/dist-packages (from trax) (0.10.0)\n",
            "Collecting tensorflow-text\n",
            "\u001b[?25l  Downloading https://files.pythonhosted.org/packages/b6/c0/c0fed4301f592c3b56638ae7292612c17d91a43891ba1aaf9636d535beae/tensorflow_text-2.4.3-cp37-cp37m-manylinux1_x86_64.whl (3.4MB)\n",
            "\u001b[K     |████████████████████████████████| 3.4MB 49.2MB/s \n",
            "\u001b[?25hRequirement already satisfied: flatbuffers in /usr/local/lib/python3.7/dist-packages (from jaxlib->trax) (1.12)\n",
            "Requirement already satisfied: nltk in /usr/local/lib/python3.7/dist-packages (from t5->trax) (3.2.5)\n",
            "Collecting rouge-score\n",
            "  Downloading https://files.pythonhosted.org/packages/1f/56/a81022436c08b9405a5247b71635394d44fe7e1dbedc4b28c740e09c2840/rouge_score-0.0.4-py2.py3-none-any.whl\n",
            "Collecting sacrebleu\n",
            "\u001b[?25l  Downloading https://files.pythonhosted.org/packages/3b/7f/4fd83db8570288c3899d8e57666c2841403c15659f3d792a3cb8dc1c6689/sacrebleu-1.5.0-py3-none-any.whl (65kB)\n",
            "\u001b[K     |████████████████████████████████| 71kB 7.5MB/s \n",
            "\u001b[?25hRequirement already satisfied: scikit-learn in /usr/local/lib/python3.7/dist-packages (from t5->trax) (0.22.2.post1)\n",
            "Collecting tfds-nightly\n",
            "\u001b[?25l  Downloading https://files.pythonhosted.org/packages/e0/cd/47d84ce7c3193fb7d9de2f630e7baec314df7e3b5e9bf058807efa70ba23/tfds_nightly-4.2.0.dev202102240106-py3-none-any.whl (3.8MB)\n",
            "\u001b[K     |████████████████████████████████| 3.8MB 44.9MB/s \n",
            "\u001b[?25hRequirement already satisfied: babel in /usr/local/lib/python3.7/dist-packages (from t5->trax) (2.9.0)\n",
            "Collecting sentencepiece\n",
            "\u001b[?25l  Downloading https://files.pythonhosted.org/packages/f5/99/e0808cb947ba10f575839c43e8fafc9cc44e4a7a2c8f79c60db48220a577/sentencepiece-0.1.95-cp37-cp37m-manylinux2014_x86_64.whl (1.2MB)\n",
            "\u001b[K     |████████████████████████████████| 1.2MB 41.1MB/s \n",
            "\u001b[?25hCollecting transformers>=2.7.0\n",
            "\u001b[?25l  Downloading https://files.pythonhosted.org/packages/f9/54/5ca07ec9569d2f232f3166de5457b63943882f7950ddfcc887732fc7fb23/transformers-4.3.3-py3-none-any.whl (1.9MB)\n",
            "\u001b[K     |████████████████████████████████| 1.9MB 49.9MB/s \n",
            "\u001b[?25hCollecting mesh-tensorflow[transformer]>=0.1.13\n",
            "\u001b[?25l  Downloading https://files.pythonhosted.org/packages/e1/20/23bbc94034e16bb1ace73e9e7922226e31d6d36b88dcfa257d2c59b3f465/mesh_tensorflow-0.1.18-py3-none-any.whl (361kB)\n",
            "\u001b[K     |████████████████████████████████| 368kB 34.8MB/s \n",
            "\u001b[?25hRequirement already satisfied: torch in /usr/local/lib/python3.7/dist-packages (from t5->trax) (1.7.0+cu101)\n",
            "Requirement already satisfied: pandas in /usr/local/lib/python3.7/dist-packages (from t5->trax) (1.1.5)\n",
            "Requirement already satisfied: attrs>=18.1.0 in /usr/local/lib/python3.7/dist-packages (from tensorflow-datasets->trax) (20.3.0)\n",
            "Requirement already satisfied: promise in /usr/local/lib/python3.7/dist-packages (from tensorflow-datasets->trax) (2.3)\n",
            "Requirement already satisfied: future in /usr/local/lib/python3.7/dist-packages (from tensorflow-datasets->trax) (0.16.0)\n",
            "Requirement already satisfied: dill in /usr/local/lib/python3.7/dist-packages (from tensorflow-datasets->trax) (0.3.3)\n",
            "Requirement already satisfied: dm-tree in /usr/local/lib/python3.7/dist-packages (from tensorflow-datasets->trax) (0.1.5)\n",
            "Requirement already satisfied: importlib-resources; python_version < \"3.9\" in /usr/local/lib/python3.7/dist-packages (from tensorflow-datasets->trax) (5.1.0)\n",
            "Requirement already satisfied: protobuf>=3.6.1 in /usr/local/lib/python3.7/dist-packages (from tensorflow-datasets->trax) (3.12.4)\n",
            "Requirement already satisfied: tensorflow-metadata in /usr/local/lib/python3.7/dist-packages (from tensorflow-datasets->trax) (0.27.0)\n",
            "Requirement already satisfied: tqdm in /usr/local/lib/python3.7/dist-packages (from tensorflow-datasets->trax) (4.41.1)\n",
            "Requirement already satisfied: requests>=2.19.0 in /usr/local/lib/python3.7/dist-packages (from tensorflow-datasets->trax) (2.23.0)\n",
            "Requirement already satisfied: termcolor in /usr/local/lib/python3.7/dist-packages (from tensorflow-datasets->trax) (1.1.0)\n",
            "Requirement already satisfied: cloudpickle<1.7.0,>=1.2.0 in /usr/local/lib/python3.7/dist-packages (from gym->trax) (1.3.0)\n",
            "Requirement already satisfied: pyglet<=1.5.0,>=1.4.0 in /usr/local/lib/python3.7/dist-packages (from gym->trax) (1.5.0)\n",
            "Requirement already satisfied: opt-einsum in /usr/local/lib/python3.7/dist-packages (from jax->trax) (3.3.0)\n",
            "Requirement already satisfied: tensorflow<2.5,>=2.4.0 in /usr/local/lib/python3.7/dist-packages (from tensorflow-text->trax) (2.4.1)\n",
            "Requirement already satisfied: tensorflow-hub>=0.8.0 in /usr/local/lib/python3.7/dist-packages (from tensorflow-text->trax) (0.11.0)\n",
            "Collecting portalocker\n",
            "  Downloading https://files.pythonhosted.org/packages/82/22/e684c9e2e59b561dbe36538852e81849122c666c423448e3a5c99362c228/portalocker-2.2.1-py2.py3-none-any.whl\n",
            "Requirement already satisfied: joblib>=0.11 in /usr/local/lib/python3.7/dist-packages (from scikit-learn->t5->trax) (1.0.1)\n",
            "Requirement already satisfied: typing-extensions; python_version < \"3.8\" in /usr/local/lib/python3.7/dist-packages (from tfds-nightly->t5->trax) (3.7.4.3)\n",
            "Requirement already satisfied: pytz>=2015.7 in /usr/local/lib/python3.7/dist-packages (from babel->t5->trax) (2018.9)\n",
            "Requirement already satisfied: packaging in /usr/local/lib/python3.7/dist-packages (from transformers>=2.7.0->t5->trax) (20.9)\n",
            "Requirement already satisfied: regex!=2019.12.17 in /usr/local/lib/python3.7/dist-packages (from transformers>=2.7.0->t5->trax) (2019.12.20)\n",
            "Collecting tokenizers<0.11,>=0.10.1\n",
            "\u001b[?25l  Downloading https://files.pythonhosted.org/packages/71/23/2ddc317b2121117bf34dd00f5b0de194158f2a44ee2bf5e47c7166878a97/tokenizers-0.10.1-cp37-cp37m-manylinux2010_x86_64.whl (3.2MB)\n",
            "\u001b[K     |████████████████████████████████| 3.2MB 40.9MB/s \n",
            "\u001b[?25hRequirement already satisfied: filelock in /usr/local/lib/python3.7/dist-packages (from transformers>=2.7.0->t5->trax) (3.0.12)\n",
            "Collecting sacremoses\n",
            "\u001b[?25l  Downloading https://files.pythonhosted.org/packages/7d/34/09d19aff26edcc8eb2a01bed8e98f13a1537005d31e95233fd48216eed10/sacremoses-0.0.43.tar.gz (883kB)\n",
            "\u001b[K     |████████████████████████████████| 890kB 43.2MB/s \n",
            "\u001b[?25hRequirement already satisfied: importlib-metadata; python_version < \"3.8\" in /usr/local/lib/python3.7/dist-packages (from transformers>=2.7.0->t5->trax) (3.4.0)\n",
            "Requirement already satisfied: dataclasses in /usr/local/lib/python3.7/dist-packages (from torch->t5->trax) (0.6)\n",
            "Requirement already satisfied: python-dateutil>=2.7.3 in /usr/local/lib/python3.7/dist-packages (from pandas->t5->trax) (2.8.1)\n",
            "Requirement already satisfied: zipp>=0.4; python_version < \"3.8\" in /usr/local/lib/python3.7/dist-packages (from importlib-resources; python_version < \"3.9\"->tensorflow-datasets->trax) (3.4.0)\n",
            "Requirement already satisfied: setuptools in /usr/local/lib/python3.7/dist-packages (from protobuf>=3.6.1->tensorflow-datasets->trax) (53.0.0)\n",
            "Requirement already satisfied: googleapis-common-protos<2,>=1.52.0 in /usr/local/lib/python3.7/dist-packages (from tensorflow-metadata->tensorflow-datasets->trax) (1.52.0)\n",
            "Requirement already satisfied: certifi>=2017.4.17 in /usr/local/lib/python3.7/dist-packages (from requests>=2.19.0->tensorflow-datasets->trax) (2020.12.5)\n",
            "Requirement already satisfied: urllib3!=1.25.0,!=1.25.1,<1.26,>=1.21.1 in /usr/local/lib/python3.7/dist-packages (from requests>=2.19.0->tensorflow-datasets->trax) (1.24.3)\n",
            "Requirement already satisfied: chardet<4,>=3.0.2 in /usr/local/lib/python3.7/dist-packages (from requests>=2.19.0->tensorflow-datasets->trax) (3.0.4)\n",
            "Requirement already satisfied: idna<3,>=2.5 in /usr/local/lib/python3.7/dist-packages (from requests>=2.19.0->tensorflow-datasets->trax) (2.10)\n",
            "Requirement already satisfied: h5py~=2.10.0 in /usr/local/lib/python3.7/dist-packages (from tensorflow<2.5,>=2.4.0->tensorflow-text->trax) (2.10.0)\n",
            "Requirement already satisfied: keras-preprocessing~=1.1.2 in /usr/local/lib/python3.7/dist-packages (from tensorflow<2.5,>=2.4.0->tensorflow-text->trax) (1.1.2)\n",
            "Requirement already satisfied: wrapt~=1.12.1 in /usr/local/lib/python3.7/dist-packages (from tensorflow<2.5,>=2.4.0->tensorflow-text->trax) (1.12.1)\n",
            "Requirement already satisfied: astunparse~=1.6.3 in /usr/local/lib/python3.7/dist-packages (from tensorflow<2.5,>=2.4.0->tensorflow-text->trax) (1.6.3)\n",
            "Requirement already satisfied: tensorboard~=2.4 in /usr/local/lib/python3.7/dist-packages (from tensorflow<2.5,>=2.4.0->tensorflow-text->trax) (2.4.1)\n",
            "Requirement already satisfied: wheel~=0.35 in /usr/local/lib/python3.7/dist-packages (from tensorflow<2.5,>=2.4.0->tensorflow-text->trax) (0.36.2)\n",
            "Requirement already satisfied: grpcio~=1.32.0 in /usr/local/lib/python3.7/dist-packages (from tensorflow<2.5,>=2.4.0->tensorflow-text->trax) (1.32.0)\n",
            "Requirement already satisfied: tensorflow-estimator<2.5.0,>=2.4.0 in /usr/local/lib/python3.7/dist-packages (from tensorflow<2.5,>=2.4.0->tensorflow-text->trax) (2.4.0)\n",
            "Requirement already satisfied: google-pasta~=0.2 in /usr/local/lib/python3.7/dist-packages (from tensorflow<2.5,>=2.4.0->tensorflow-text->trax) (0.2.0)\n",
            "Requirement already satisfied: gast==0.3.3 in /usr/local/lib/python3.7/dist-packages (from tensorflow<2.5,>=2.4.0->tensorflow-text->trax) (0.3.3)\n",
            "Requirement already satisfied: pyparsing>=2.0.2 in /usr/local/lib/python3.7/dist-packages (from packaging->transformers>=2.7.0->t5->trax) (2.4.7)\n",
            "Requirement already satisfied: click in /usr/local/lib/python3.7/dist-packages (from sacremoses->transformers>=2.7.0->t5->trax) (7.1.2)\n",
            "Requirement already satisfied: google-auth<2,>=1.6.3 in /usr/local/lib/python3.7/dist-packages (from tensorboard~=2.4->tensorflow<2.5,>=2.4.0->tensorflow-text->trax) (1.27.0)\n",
            "Requirement already satisfied: google-auth-oauthlib<0.5,>=0.4.1 in /usr/local/lib/python3.7/dist-packages (from tensorboard~=2.4->tensorflow<2.5,>=2.4.0->tensorflow-text->trax) (0.4.2)\n",
            "Requirement already satisfied: tensorboard-plugin-wit>=1.6.0 in /usr/local/lib/python3.7/dist-packages (from tensorboard~=2.4->tensorflow<2.5,>=2.4.0->tensorflow-text->trax) (1.8.0)\n",
            "Requirement already satisfied: werkzeug>=0.11.15 in /usr/local/lib/python3.7/dist-packages (from tensorboard~=2.4->tensorflow<2.5,>=2.4.0->tensorflow-text->trax) (1.0.1)\n",
            "Requirement already satisfied: markdown>=2.6.8 in /usr/local/lib/python3.7/dist-packages (from tensorboard~=2.4->tensorflow<2.5,>=2.4.0->tensorflow-text->trax) (3.3.3)\n",
            "Requirement already satisfied: rsa<5,>=3.1.4; python_version >= \"3.6\" in /usr/local/lib/python3.7/dist-packages (from google-auth<2,>=1.6.3->tensorboard~=2.4->tensorflow<2.5,>=2.4.0->tensorflow-text->trax) (4.7.1)\n",
            "Requirement already satisfied: cachetools<5.0,>=2.0.0 in /usr/local/lib/python3.7/dist-packages (from google-auth<2,>=1.6.3->tensorboard~=2.4->tensorflow<2.5,>=2.4.0->tensorflow-text->trax) (4.2.1)\n",
            "Requirement already satisfied: pyasn1-modules>=0.2.1 in /usr/local/lib/python3.7/dist-packages (from google-auth<2,>=1.6.3->tensorboard~=2.4->tensorflow<2.5,>=2.4.0->tensorflow-text->trax) (0.2.8)\n",
            "Requirement already satisfied: requests-oauthlib>=0.7.0 in /usr/local/lib/python3.7/dist-packages (from google-auth-oauthlib<0.5,>=0.4.1->tensorboard~=2.4->tensorflow<2.5,>=2.4.0->tensorflow-text->trax) (1.3.0)\n",
            "Requirement already satisfied: pyasn1>=0.1.3 in /usr/local/lib/python3.7/dist-packages (from rsa<5,>=3.1.4; python_version >= \"3.6\"->google-auth<2,>=1.6.3->tensorboard~=2.4->tensorflow<2.5,>=2.4.0->tensorflow-text->trax) (0.4.8)\n",
            "Requirement already satisfied: oauthlib>=3.0.0 in /usr/local/lib/python3.7/dist-packages (from requests-oauthlib>=0.7.0->google-auth-oauthlib<0.5,>=0.4.1->tensorboard~=2.4->tensorflow<2.5,>=2.4.0->tensorflow-text->trax) (3.1.0)\n",
            "Building wheels for collected packages: sacremoses\n",
            "  Building wheel for sacremoses (setup.py) ... \u001b[?25l\u001b[?25hdone\n",
            "  Created wheel for sacremoses: filename=sacremoses-0.0.43-cp37-none-any.whl size=893262 sha256=af75509c76f93e06c8e6f43e0f06d8252d20ada7a68fcfbe767f5d17aecf1ef6\n",
            "  Stored in directory: /root/.cache/pip/wheels/29/3c/fd/7ce5c3f0666dab31a50123635e6fb5e19ceb42ce38d4e58f45\n",
            "Successfully built sacremoses\n",
            "Installing collected packages: funcsigs, rouge-score, portalocker, sacrebleu, tfds-nightly, sentencepiece, tokenizers, sacremoses, transformers, mesh-tensorflow, tensorflow-text, t5, trax\n",
            "Successfully installed funcsigs-1.0.2 mesh-tensorflow-0.1.18 portalocker-2.2.1 rouge-score-0.0.4 sacrebleu-1.5.0 sacremoses-0.0.43 sentencepiece-0.1.95 t5-0.8.1 tensorflow-text-2.4.3 tfds-nightly-4.2.0.dev202102240106 tokenizers-0.10.1 transformers-4.3.3 trax-1.3.7\n"
          ],
          "name": "stdout"
        }
      ]
    },
    {
      "cell_type": "code",
      "metadata": {
        "id": "Ia8Xl9ef6UnY",
        "outputId": "39b0c911-b1c9-423e-f608-b21afb5c9c1e",
        "colab": {
          "base_uri": "https://localhost:8080/"
        }
      },
      "source": [
        "!git clone https://github.com/DrAlexSanz/NLP-SPEC-C4.git\r\n",
        "\r\n",
        "!mv \"NLP-SPEC-C4/W3/data.txt\" \"./\"\r\n",
        "!mv \"NLP-SPEC-C4/W3/example.txt\" \"./\"\r\n",
        "!mv \"NLP-SPEC-C4/W3/example_bpe.model\" \"./\"\r\n",
        "!mv \"NLP-SPEC-C4/W3/example_bpe.vocab\" \"./\"\r\n",
        "!mv \"NLP-SPEC-C4/W3/inputs_targets_pairs_file.txt\" \"./\"\r\n",
        "!mv \"NLP-SPEC-C4/W3/sentencepiece.model\" \"./\"\r\n",
        "!mv \"NLP-SPEC-C4/W3/summarize32k.subword.subwords\" \"./\"\r\n",
        "!rm -rf \"NLP-SPEC-C4\""
      ],
      "execution_count": 2,
      "outputs": [
        {
          "output_type": "stream",
          "text": [
            "Cloning into 'NLP-SPEC-C4'...\n",
            "remote: Enumerating objects: 121, done.\u001b[K\n",
            "remote: Counting objects: 100% (121/121), done.\u001b[K\n",
            "remote: Compressing objects: 100% (104/104), done.\u001b[K\n",
            "remote: Total 121 (delta 32), reused 0 (delta 0), pack-reused 0\u001b[K\n",
            "Receiving objects: 100% (121/121), 2.41 MiB | 5.58 MiB/s, done.\n",
            "Resolving deltas: 100% (32/32), done.\n"
          ],
          "name": "stdout"
        }
      ]
    },
    {
      "cell_type": "markdown",
      "metadata": {
        "id": "ianNZQeA6-p3"
      },
      "source": [
        "# Part 1: C4 Dataset\r\n",
        "The C4 is a huge data set. For the purpose of this assignment you will use a few examples out of it which are present in data.txt. C4 is based on the common crawl project. Feel free to read more on their website."
      ]
    },
    {
      "cell_type": "code",
      "metadata": {
        "id": "yucLE7Z-41Zk",
        "colab": {
          "base_uri": "https://localhost:8080/"
        },
        "outputId": "2320fe7b-819e-4575-a262-1e39b02fca9d"
      },
      "source": [
        "example_jsons = list(map(ast.literal_eval, open(\"data.txt\")))\r\n",
        "\r\n",
        "for i in range(5):\r\n",
        "    print(f\"Example number {i}: \\n\\n {example_jsons[i]} \\n\")"
      ],
      "execution_count": 3,
      "outputs": [
        {
          "output_type": "stream",
          "text": [
            "Example number 0: \n",
            "\n",
            " {'content-length': b'1970', 'content-type': b'text/plain', 'text': b'Beginners BBQ Class Taking Place in Missoula!\\nDo you want to get better at making delicious BBQ? You will have the opportunity, put this on your calendar now. Thursday, September 22nd join World Class BBQ Champion, Tony Balay from Lonestar Smoke Rangers. He will be teaching a beginner level class for everyone who wants to get better with their culinary skills.\\nHe will teach you everything you need to know to compete in a KCBS BBQ competition, including techniques, recipes, timelines, meat selection and trimming, plus smoker and fire information.\\nThe cost to be in the class is $35 per person, and for spectators it is free. Included in the cost will be either a t-shirt or apron and you will be tasting samples of each meat that is prepared.', 'timestamp': b'2019-04-25T12:57:54Z', 'url': b'https://klyq.com/beginners-bbq-class-taking-place-in-missoula/'} \n",
            "\n",
            "Example number 1: \n",
            "\n",
            " {'content-length': b'12064', 'content-type': b'text/plain', 'text': b'Discussion in \\'Mac OS X Lion (10.7)\\' started by axboi87, Jan 20, 2012.\\nI\\'ve got a 500gb internal drive and a 240gb SSD.\\nWhen trying to restore using disk utility i\\'m given the error \"Not enough space on disk ____ to restore\"\\nBut I shouldn\\'t have to do that!!!\\nAny ideas or workarounds before resorting to the above?\\nUse Carbon Copy Cloner to copy one drive to the other. I\\'ve done this several times going from larger HDD to smaller SSD and I wound up with a bootable SSD drive. One step you have to remember not to skip is to use Disk Utility to partition the SSD as GUID partition scheme HFS+ before doing the clone. If it came Apple Partition Scheme, even if you let CCC do the clone, the resulting drive won\\'t be bootable. CCC usually works in \"file mode\" and it can easily copy a larger drive (that\\'s mostly empty) onto a smaller drive. If you tell CCC to clone a drive you did NOT boot from, it can work in block copy mode where the destination drive must be the same size or larger than the drive you are cloning from (if I recall).\\nI\\'ve actually done this somehow on Disk Utility several times (booting from a different drive (or even the dvd) so not running disk utility from the drive your cloning) and had it work just fine from larger to smaller bootable clone. Definitely format the drive cloning to first, as bootable Apple etc..\\nThanks for pointing this out. My only experience using DU to go larger to smaller was when I was trying to make a Lion install stick and I was unable to restore InstallESD.dmg to a 4 GB USB stick but of course the reason that wouldn\\'t fit is there was slightly more than 4 GB of data.', 'timestamp': b'2019-04-21T10:07:13Z', 'url': b'https://forums.macrumors.com/threads/restore-from-larger-disk-to-smaller-disk.1311329/'} \n",
            "\n",
            "Example number 2: \n",
            "\n",
            " {'content-length': b'5235', 'content-type': b'text/plain', 'text': b'Foil plaid lycra and spandex shortall with metallic slinky insets. Attached metallic elastic belt with O-ring. Headband included. Great hip hop or jazz dance costume. Made in the USA.', 'timestamp': b'2019-04-25T10:40:23Z', 'url': b'https://awishcometrue.com/Catalogs/Clearance/Tweens/V1960-Find-A-Way'} \n",
            "\n",
            "Example number 3: \n",
            "\n",
            " {'content-length': b'4967', 'content-type': b'text/plain', 'text': b\"How many backlinks per day for new site?\\nDiscussion in 'Black Hat SEO' started by Omoplata, Dec 3, 2010.\\n1) for a newly created site, what's the max # backlinks per day I should do to be safe?\\n2) how long do I have to let my site age before I can start making more blinks?\\nI did about 6000 forum profiles every 24 hours for 10 days for one of my sites which had a brand new domain.\\nThere is three backlinks for every of these forum profile so thats 18 000 backlinks every 24 hours and nothing happened in terms of being penalized or sandboxed. This is now maybe 3 months ago and the site is ranking on first page for a lot of my targeted keywords.\\nbuild more you can in starting but do manual submission and not spammy type means manual + relevant to the post.. then after 1 month you can make a big blast..\\nWow, dude, you built 18k backlinks a day on a brand new site? How quickly did you rank up? What kind of competition/searches did those keywords have?\", 'timestamp': b'2019-04-21T12:46:19Z', 'url': b'https://www.blackhatworld.com/seo/how-many-backlinks-per-day-for-new-site.258615/'} \n",
            "\n",
            "Example number 4: \n",
            "\n",
            " {'content-length': b'4499', 'content-type': b'text/plain', 'text': b'The Denver Board of Education opened the 2017-18 school year with an update on projects that include new construction, upgrades, heat mitigation and quality learning environments.\\nWe are excited that Denver students will be the beneficiaries of a four year, $572 million General Obligation Bond. Since the passage of the bond, our construction team has worked to schedule the projects over the four-year term of the bond.\\nDenver voters on Tuesday approved bond and mill funding measures for students in Denver Public Schools, agreeing to invest $572 million in bond funding to build and improve schools and $56.6 million in operating dollars to support proven initiatives, such as early literacy.\\nDenver voters say yes to bond and mill levy funding support for DPS students and schools. Click to learn more about the details of the voter-approved bond measure.\\nDenver voters on Nov. 8 approved bond and mill funding measures for DPS students and schools. Learn more about what\\xe2\\x80\\x99s included in the mill levy measure.', 'timestamp': b'2019-04-20T14:33:21Z', 'url': b'http://bond.dpsk12.org/category/news/'} \n",
            "\n"
          ],
          "name": "stdout"
        }
      ]
    },
    {
      "cell_type": "markdown",
      "metadata": {
        "id": "B-UMMOSj5--s"
      },
      "source": [
        "Notice the b before each string? This means that this data comes as bytes rather than strings. Strings are actually lists of bytes so for the rest of the assignments the name strings will be used to describe the data."
      ]
    },
    {
      "cell_type": "code",
      "metadata": {
        "id": "2cO250_-6Aci",
        "colab": {
          "base_uri": "https://localhost:8080/"
        },
        "outputId": "a9768c8c-bc2a-4f3d-e079-bdab4a7041ee"
      },
      "source": [
        "print(type(example_jsons[0].get(\"text\"))) #this is a \"bytes\"\r\n",
        "print(type(example_jsons[0])) # This is a dict\r\n",
        "print(type(example_jsons)) # And this is a list because I forced it (list of dicts)."
      ],
      "execution_count": 4,
      "outputs": [
        {
          "output_type": "stream",
          "text": [
            "<class 'bytes'>\n",
            "<class 'dict'>\n",
            "<class 'list'>\n"
          ],
          "name": "stdout"
        }
      ]
    },
    {
      "cell_type": "markdown",
      "metadata": {
        "id": "alvkqa256iOT"
      },
      "source": [
        "## 1.1 Pre-Training Objective\r\n",
        "Note: The word \"mask\" will be used throughout this assignment in context of hiding/removing word(s)\r\n",
        "\r\n",
        "You will be implementing the BERT loss as shown in the following image."
      ]
    },
    {
      "cell_type": "markdown",
      "metadata": {
        "id": "uWx5TTPe6kKi"
      },
      "source": [
        "![image.png](data:image/png;base64,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)"
      ]
    },
    {
      "cell_type": "markdown",
      "metadata": {
        "id": "n4p1yPWV6l9D"
      },
      "source": [
        "Assume you have the following text: **Thank you for inviting me to your party last week** \r\n",
        "\r\n",
        "Now as input you will mask the words in red in the text:\r\n",
        "\r\n",
        "**Input:** Thank you X me to your party Y week.\r\n",
        "\r\n",
        "**Output:** The model should predict the words(s) for X and Y.\r\n",
        "\r\n",
        "Z is used to represent the end."
      ]
    },
    {
      "cell_type": "markdown",
      "metadata": {
        "id": "4rVL87ui6qYz"
      },
      "source": [
        "## 1.2 Process C4\r\n",
        "C4 only has the plain string text field, so you will tokenize and have inputs and targets out of it for supervised learning. Given your inputs, the goal is to predict the targets during training.\r\n",
        "\r\n",
        "You will now take the text and convert it to inputs and targets."
      ]
    },
    {
      "cell_type": "code",
      "metadata": {
        "id": "nQ8JBsKX6wi7"
      },
      "source": [
        "# Take the text field from the dict:\r\n",
        "\r\n",
        "natural_language_texts = [example_json[\"text\"] for example_json in example_jsons]"
      ],
      "execution_count": 5,
      "outputs": []
    },
    {
      "cell_type": "code",
      "metadata": {
        "id": "1gpwY7Ih8xxj",
        "colab": {
          "base_uri": "https://localhost:8080/"
        },
        "outputId": "11f0b9d7-f26f-4ecb-e350-e7614da44ae9"
      },
      "source": [
        "natural_language_texts[4]"
      ],
      "execution_count": 6,
      "outputs": [
        {
          "output_type": "execute_result",
          "data": {
            "text/plain": [
              "b'The Denver Board of Education opened the 2017-18 school year with an update on projects that include new construction, upgrades, heat mitigation and quality learning environments.\\nWe are excited that Denver students will be the beneficiaries of a four year, $572 million General Obligation Bond. Since the passage of the bond, our construction team has worked to schedule the projects over the four-year term of the bond.\\nDenver voters on Tuesday approved bond and mill funding measures for students in Denver Public Schools, agreeing to invest $572 million in bond funding to build and improve schools and $56.6 million in operating dollars to support proven initiatives, such as early literacy.\\nDenver voters say yes to bond and mill levy funding support for DPS students and schools. Click to learn more about the details of the voter-approved bond measure.\\nDenver voters on Nov. 8 approved bond and mill funding measures for DPS students and schools. Learn more about what\\xe2\\x80\\x99s included in the mill levy measure.'"
            ]
          },
          "metadata": {
            "tags": []
          },
          "execution_count": 6
        }
      ]
    },
    {
      "cell_type": "markdown",
      "metadata": {
        "id": "LiWeFd-F-EaC"
      },
      "source": [
        "## 1.2.1 Decode to natural language\r\n",
        "The following functions will help you detokenize andtokenize the text data.\r\n",
        "\r\n",
        "The sentencepiece vocabulary was used to convert from text to ids. This vocabulary file is loaded and used in this helper functions.\r\n",
        "\r\n",
        "natural_language_texts has the text from the examples we gave you."
      ]
    },
    {
      "cell_type": "code",
      "metadata": {
        "id": "Y36CxczW-GLu"
      },
      "source": [
        "PAD = 0\r\n",
        "EOS = 1\r\n",
        "UNK = 2\r\n",
        "\r\n",
        "def detokenize(np_array):\r\n",
        "    detok = trax.data.detokenize(np_array, vocab_type = \"sentencepiece\", vocab_file = \"sentencepiece.model\", vocab_dir = \".\")\r\n",
        "    return detok\r\n",
        "\r\n",
        "\r\n",
        "def tokenize(a_string):\r\n",
        "    tokens = trax.data.tokenize(iter([a_string]), vocab_type = \"sentencepiece\", vocab_file = \"sentencepiece.model\", vocab_dir = \".\")\r\n",
        "    return next(tokens)\r\n",
        "\r\n"
      ],
      "execution_count": 7,
      "outputs": []
    },
    {
      "cell_type": "code",
      "metadata": {
        "id": "Y8NEipNM_CqS",
        "colab": {
          "base_uri": "https://localhost:8080/"
        },
        "outputId": "1f30b5c1-be6b-4ec9-c15f-55b2665eac7f"
      },
      "source": [
        "# Test\r\n",
        "\r\n",
        "tokenized_text = [(tokenize(word).tolist(), word) for word in natural_language_texts[0].split()]\r\n",
        "\r\n",
        "print(tokenized_text, \"\\n\")"
      ],
      "execution_count": 8,
      "outputs": [
        {
          "output_type": "stream",
          "text": [
            "[([12847, 277], b'Beginners'), ([15068], b'BBQ'), ([4501], b'Class'), ([3, 12297], b'Taking'), ([3399], b'Place'), ([16], b'in'), ([5964, 7115, 9, 55], b'Missoula!'), ([531], b'Do'), ([25], b'you'), ([241], b'want'), ([12], b'to'), ([129], b'get'), ([394], b'better'), ([44], b'at'), ([492], b'making'), ([3326], b'delicious'), ([15068, 58], b'BBQ?'), ([148], b'You'), ([56], b'will'), ([43], b'have'), ([8], b'the'), ([1004, 6], b'opportunity,'), ([474], b'put'), ([48], b'this'), ([30], b'on'), ([39], b'your'), ([4793], b'calendar'), ([230, 5], b'now.'), ([2721, 6], b'Thursday,'), ([1600], b'September'), ([1630, 727], b'22nd'), ([1715], b'join'), ([1150], b'World'), ([4501], b'Class'), ([15068], b'BBQ'), ([16127, 6], b'Champion,'), ([9137], b'Tony'), ([2659, 5595], b'Balay'), ([45], b'from'), ([301, 782, 3624], b'Lonestar'), ([14627, 15], b'Smoke'), ([12612, 277, 5], b'Rangers.'), ([216], b'He'), ([56], b'will'), ([36], b'be'), ([2119], b'teaching'), ([3, 9], b'a'), ([19529], b'beginner'), ([593], b'level'), ([853], b'class'), ([21], b'for'), ([921], b'everyone'), ([113], b'who'), ([2746], b'wants'), ([12], b'to'), ([129], b'get'), ([394], b'better'), ([28], b'with'), ([70], b'their'), ([17712], b'culinary'), ([1098, 5], b'skills.'), ([216], b'He'), ([56], b'will'), ([3884], b'teach'), ([25], b'you'), ([762], b'everything'), ([25], b'you'), ([174], b'need'), ([12], b'to'), ([214], b'know'), ([12], b'to'), ([5978], b'compete'), ([16], b'in'), ([3, 9], b'a'), ([3, 23405, 4547], b'KCBS'), ([15068], b'BBQ'), ([2259, 6], b'competition,'), ([379], b'including'), ([2097, 6], b'techniques,'), ([5459, 6], b'recipes,'), ([13618, 7, 6], b'timelines,'), ([3604], b'meat'), ([1801], b'selection'), ([11], b'and'), ([27856, 6], b'trimming,'), ([303], b'plus'), ([24190], b'smoker'), ([11], b'and'), ([1472], b'fire'), ([251, 5], b'information.'), ([37], b'The'), ([583], b'cost'), ([12], b'to'), ([36], b'be'), ([16], b'in'), ([8], b'the'), ([853], b'class'), ([19], b'is'), ([25264], b'$35'), ([399], b'per'), ([568, 6], b'person,'), ([11], b'and'), ([21], b'for'), ([21380, 7], b'spectators'), ([34], b'it'), ([19], b'is'), ([339, 5], b'free.'), ([15746, 26], b'Included'), ([16], b'in'), ([8], b'the'), ([583], b'cost'), ([56], b'will'), ([36], b'be'), ([893], b'either'), ([3, 9], b'a'), ([3, 17, 18, 9486], b't-shirt'), ([42], b'or'), ([3, 9, 1409, 29], b'apron'), ([11], b'and'), ([25], b'you'), ([56], b'will'), ([36], b'be'), ([12246], b'tasting'), ([5977], b'samples'), ([13], b'of'), ([284], b'each'), ([3604], b'meat'), ([24], b'that'), ([19], b'is'), ([2657, 5], b'prepared.')] \n",
            "\n"
          ],
          "name": "stdout"
        }
      ]
    },
    {
      "cell_type": "code",
      "metadata": {
        "id": "2KVe5oj8C2wY",
        "colab": {
          "base_uri": "https://localhost:8080/"
        },
        "outputId": "0074d02b-a695-43d3-ea78-cbabb00f94ed"
      },
      "source": [
        "print(f\"tokenized: {tokenize('Beginners')}\\ndetokenized: {detokenize(tokenize('Beginners'))}\")"
      ],
      "execution_count": 9,
      "outputs": [
        {
          "output_type": "stream",
          "text": [
            "tokenized: [12847   277]\n",
            "detokenized: Beginners\n"
          ],
          "name": "stdout"
        }
      ]
    },
    {
      "cell_type": "markdown",
      "metadata": {
        "id": "tRPE7oUbDidR"
      },
      "source": [
        "Now you will create input and target pairs that will allow you to train your model. T5 uses the ids at the end of the vocab file as sentinels. For example, it will replace:\r\n",
        "\r\n",
        "  * vocab_size - 1 by < Z >\r\n",
        "  *vocab_size - 2 by < Y >\r\n",
        "\r\n",
        "and so forth.\r\n",
        "It assigns every word a chr.\r\n",
        "\r\n",
        "The pretty_decode function below, which you will use in a bit, helps in handling the type when decoding. Take a look and try to understand what the function is doing.\r\n",
        "\r\n",
        "**Notice that:**\r\n",
        "\r\n",
        "string.ascii_letters = 'abcdefghijklmnopqrstuvwxyzABCDEFGHIJKLMNOPQRSTUVWXYZ'\r\n",
        "\r\n",
        "**NOTE:** Targets may have more than the 52 sentinels we replace, but this is just to give you an idea of things."
      ]
    },
    {
      "cell_type": "code",
      "metadata": {
        "id": "PzXcegMGDvJh"
      },
      "source": [
        "vocab_size = trax.data.vocab_size(vocab_type = \"sentencepiece\", vocab_file = \"sentencepiece.model\", vocab_dir = \".\")\r\n",
        "\r\n",
        "def get_sentinels(vocab_size = vocab_size, display = False):\r\n",
        "\r\n",
        "    sentinels = {}\r\n",
        "\r\n",
        "    for i, char in enumerate(reversed(string.ascii_letters), 1):\r\n",
        "        decoded_text = detokenize([vocab_size - i])\r\n",
        "\r\n",
        "        sentinels[decoded_text] = f\"<{char}>\"\r\n",
        "\r\n",
        "        if display:\r\n",
        "            print(f\"The sentinel is <{char}> and the decoded token is {decoded_text}\")\r\n",
        "\r\n",
        "    return sentinels"
      ],
      "execution_count": 14,
      "outputs": []
    },
    {
      "cell_type": "code",
      "metadata": {
        "id": "2mtOFr9UH6h5",
        "outputId": "a8cdaf8f-4738-4715-c6b4-de16a670f8d9",
        "colab": {
          "base_uri": "https://localhost:8080/"
        }
      },
      "source": [
        "sentinels = get_sentinels(vocab_size = vocab_size, display = True)"
      ],
      "execution_count": 16,
      "outputs": [
        {
          "output_type": "stream",
          "text": [
            "The sentinel is <Z> and the decoded token is Internațional\n",
            "The sentinel is <Y> and the decoded token is erwachsene\n",
            "The sentinel is <X> and the decoded token is Cushion\n",
            "The sentinel is <W> and the decoded token is imunitar\n",
            "The sentinel is <V> and the decoded token is Intellectual\n",
            "The sentinel is <U> and the decoded token is traditi\n",
            "The sentinel is <T> and the decoded token is disguise\n",
            "The sentinel is <S> and the decoded token is exerce\n",
            "The sentinel is <R> and the decoded token is nourishe\n",
            "The sentinel is <Q> and the decoded token is predominant\n",
            "The sentinel is <P> and the decoded token is amitié\n",
            "The sentinel is <O> and the decoded token is erkennt\n",
            "The sentinel is <N> and the decoded token is dimension\n",
            "The sentinel is <M> and the decoded token is inférieur\n",
            "The sentinel is <L> and the decoded token is refugi\n",
            "The sentinel is <K> and the decoded token is cheddar\n",
            "The sentinel is <J> and the decoded token is unterlieg\n",
            "The sentinel is <I> and the decoded token is garanteaz\n",
            "The sentinel is <H> and the decoded token is făcute\n",
            "The sentinel is <G> and the decoded token is réglage\n",
            "The sentinel is <F> and the decoded token is pedepse\n",
            "The sentinel is <E> and the decoded token is Germain\n",
            "The sentinel is <D> and the decoded token is distinctly\n",
            "The sentinel is <C> and the decoded token is Schraub\n",
            "The sentinel is <B> and the decoded token is emanat\n",
            "The sentinel is <A> and the decoded token is trimestre\n",
            "The sentinel is <z> and the decoded token is disrespect\n",
            "The sentinel is <y> and the decoded token is Erasmus\n",
            "The sentinel is <x> and the decoded token is Australia\n",
            "The sentinel is <w> and the decoded token is permeabil\n",
            "The sentinel is <v> and the decoded token is deseori\n",
            "The sentinel is <u> and the decoded token is manipulated\n",
            "The sentinel is <t> and the decoded token is suggér\n",
            "The sentinel is <s> and the decoded token is corespund\n",
            "The sentinel is <r> and the decoded token is nitro\n",
            "The sentinel is <q> and the decoded token is oyons\n",
            "The sentinel is <p> and the decoded token is Account\n",
            "The sentinel is <o> and the decoded token is échéan\n",
            "The sentinel is <n> and the decoded token is laundering\n",
            "The sentinel is <m> and the decoded token is genealogy\n",
            "The sentinel is <l> and the decoded token is QuickBooks\n",
            "The sentinel is <k> and the decoded token is constituted\n",
            "The sentinel is <j> and the decoded token is Fertigung\n",
            "The sentinel is <i> and the decoded token is goutte\n",
            "The sentinel is <h> and the decoded token is regulă\n",
            "The sentinel is <g> and the decoded token is overwhelmingly\n",
            "The sentinel is <f> and the decoded token is émerg\n",
            "The sentinel is <e> and the decoded token is broyeur\n",
            "The sentinel is <d> and the decoded token is povești\n",
            "The sentinel is <c> and the decoded token is emulator\n",
            "The sentinel is <b> and the decoded token is halloween\n",
            "The sentinel is <a> and the decoded token is combustibil\n"
          ],
          "name": "stdout"
        }
      ]
    },
    {
      "cell_type": "code",
      "metadata": {
        "id": "6IyHj1knIqe5"
      },
      "source": [
        "def pretty_decode(encoded_str_list, sentinels=sentinels):\r\n",
        "    # If already a string, just do the replacements.\r\n",
        "    if isinstance(encoded_str_list, (str, bytes)):\r\n",
        "        for token, char in sentinels.items():\r\n",
        "            encoded_str_list = encoded_str_list.replace(token, char)\r\n",
        "        return encoded_str_list\r\n",
        "  \r\n",
        "    # We need to decode and then prettyfy it.\r\n",
        "    return pretty_decode(detokenize(encoded_str_list))\r\n",
        "\r\n",
        "    "
      ],
      "execution_count": 29,
      "outputs": []
    },
    {
      "cell_type": "code",
      "metadata": {
        "id": "p0OMK7q8KFLi",
        "outputId": "f5987e06-263d-4675-f05e-434ba675072f",
        "colab": {
          "base_uri": "https://localhost:8080/",
          "height": 35
        }
      },
      "source": [
        "pretty_decode(\"I want to dress up as an Intellectual this halloween.\")"
      ],
      "execution_count": 30,
      "outputs": [
        {
          "output_type": "execute_result",
          "data": {
            "application/vnd.google.colaboratory.intrinsic+json": {
              "type": "string"
            },
            "text/plain": [
              "'I want to dress up as an <V> this <b>.'"
            ]
          },
          "metadata": {
            "tags": []
          },
          "execution_count": 30
        }
      ]
    },
    {
      "cell_type": "markdown",
      "metadata": {
        "id": "9sxyfBIpK_Px"
      },
      "source": [
        "The functions above make your inputs and targets more readable. For example, you might see something like this once you implement the masking function below.\r\n",
        "\r\n",
        "* Input sentence: Younes and Lukasz were working together in the lab yesterday after lunch.\r\n",
        "* Input: Younes and Lukasz Z together in the Y yesterday after lunch.\r\n",
        "* Target: Z were working Y lab."
      ]
    },
    {
      "cell_type": "markdown",
      "metadata": {
        "id": "Mg-wG2UZLB3i"
      },
      "source": [
        "## 1.3 Tokenizing and Masking\r\n",
        "You will now implement the tokenize_and_mask function. This function will allow you to tokenize and mask input words with a noise probability. We usually mask 15% of the words."
      ]
    }
  ]
}